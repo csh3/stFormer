{
 "cells": [
  {
   "cell_type": "code",
   "execution_count": null,
   "metadata": {
    "vscode": {
     "languageId": "r"
    }
   },
   "outputs": [],
   "source": [
    "library(Seurat)\n",
    "library(SeuratObject)\n",
    "library(Matrix)"
   ]
  },
  {
   "cell_type": "code",
   "execution_count": null,
   "metadata": {
    "vscode": {
     "languageId": "r"
    }
   },
   "outputs": [],
   "source": [
    "data_path = 'pancreas_cosmx_rds'\n",
    "\n",
    "seurat_obj <- readRDS(paste0(data_path, \"/Seurat_Pancreas_withTranscripts.rds\"))"
   ]
  },
  {
   "cell_type": "code",
   "execution_count": null,
   "metadata": {
    "vscode": {
     "languageId": "r"
    }
   },
   "outputs": [],
   "source": [
    "spatial_coords <- GetTissueCoordinates(seurat_obj)\n",
    "head(spatial_coords)"
   ]
  },
  {
   "cell_type": "code",
   "execution_count": null,
   "metadata": {
    "vscode": {
     "languageId": "r"
    }
   },
   "outputs": [],
   "source": [
    "head(seurat_obj@meta.data)"
   ]
  },
  {
   "cell_type": "code",
   "execution_count": null,
   "metadata": {
    "vscode": {
     "languageId": "r"
    }
   },
   "outputs": [],
   "source": [
    "names(seurat_obj@meta.data)"
   ]
  },
  {
   "cell_type": "code",
   "execution_count": null,
   "metadata": {
    "vscode": {
     "languageId": "r"
    }
   },
   "outputs": [],
   "source": [
    "# add cell typing results from InSituType\n",
    "meta <- readRDS(paste0(data_path, \"/Pancreas_celltype_InSituType.rds\"))\n",
    "seurat_obj@meta.data$cell_type <- meta[rownames(seurat_obj@meta.data), \"cell_types\"]"
   ]
  },
  {
   "cell_type": "code",
   "execution_count": null,
   "metadata": {
    "vscode": {
     "languageId": "r"
    }
   },
   "outputs": [],
   "source": [
    "count_matrix = seurat_obj@assays$RNA@counts\n",
    "writeMM(count_matrix, file = paste0(data_path, \"/count_matrix.mtx\"))"
   ]
  },
  {
   "cell_type": "code",
   "execution_count": null,
   "metadata": {
    "vscode": {
     "languageId": "r"
    }
   },
   "outputs": [],
   "source": [
    "write.table(rownames(count_matrix), file = paste0(data_path, \"/genes.tsv\"), sep = \"\\t\", row.names = FALSE, col.names = FALSE, quote = FALSE)\n",
    "write.table(colnames(count_matrix), file = paste0(data_path, \"/barcodes.tsv\"), sep = \"\\t\", row.names = FALSE, col.names = FALSE, quote = FALSE)"
   ]
  },
  {
   "cell_type": "code",
   "execution_count": null,
   "metadata": {
    "vscode": {
     "languageId": "r"
    }
   },
   "outputs": [],
   "source": [
    "seurat_obj@meta.data$cell_type[is.na(seurat_obj@meta.data$cell_type)] <- \"QC_dropped\"\n",
    "# select_meta <- seurat_obj@meta.data[, c('cell_id', \"fov\", 'x_FOV_px', 'y_FOV_px', 'x_slide_mm', 'y_slide_mm', 'cell_type')]"
   ]
  },
  {
   "cell_type": "code",
   "execution_count": null,
   "metadata": {
    "vscode": {
     "languageId": "r"
    }
   },
   "outputs": [],
   "source": [
    "write.csv(select_meta, file = paste0(data_path, \"/meta_data.csv\"), row.names=TRUE)"
   ]
  }
 ],
 "metadata": {
  "kernelspec": {
   "display_name": "R",
   "language": "R",
   "name": "ir"
  },
  "language_info": {
   "codemirror_mode": "r",
   "file_extension": ".r",
   "mimetype": "text/x-r-source",
   "name": "R",
   "pygments_lexer": "r",
   "version": "4.3.1"
  }
 },
 "nbformat": 4,
 "nbformat_minor": 2
}
