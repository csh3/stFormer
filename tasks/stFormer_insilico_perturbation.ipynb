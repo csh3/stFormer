{
 "cells": [
  {
   "cell_type": "code",
   "execution_count": 1,
   "metadata": {},
   "outputs": [],
   "source": [
    "import os\n",
    "os.environ['PYTORCH_CUDA_ALLOC_CONF'] = 'expandable_segments:True'\n",
    "from typing import Dict\n",
    "import warnings\n",
    "warnings.filterwarnings('ignore')\n",
    "import copy\n",
    "from tqdm import tqdm\n",
    "import random\n",
    "import scanpy as sc\n",
    "import numpy as np\n",
    "import pandas as pd\n",
    "import torch\n",
    "from torch.utils.data import Dataset, DataLoader\n",
    "from torch import nn\n",
    "\n",
    "from stformer import logger\n",
    "from stformer.tokenizer import GeneVocab\n",
    "from stformer.tokenizer import tokenize_and_pad_batch_2\n",
    "from stformer.model import TransformerModel"
   ]
  },
  {
   "cell_type": "code",
   "execution_count": null,
   "metadata": {},
   "outputs": [],
   "source": [
    "class Tokenizer():\n",
    "    def __init__(self, tokenizer_dir, adata, vocab, pad_value, pad_token):\n",
    "        self.tokenizer_dir = tokenizer_dir\n",
    "        self.adata = adata\n",
    "        self.vocab = vocab\n",
    "        self.pad_value = pad_value\n",
    "        self.pad_token = pad_token\n",
    "        self.load_data()\n",
    "    \n",
    "    def load_data(self):\n",
    "        self.expression_matrix = self.adata.X\n",
    "        self.niche_ligands_expression = self.adata.obsm['niche_ligands_expression']\n",
    "        self.niche_composition = self.adata.obsm['niche_composition']\n",
    "        self.niche_celltypes = self.adata.obsm['niche_celltypes']\n",
    "        self.cell_types_list = list(self.adata.uns['cell_types_list'])\n",
    "\n",
    "        gene_list_df = pd.read_csv(f'{self.tokenizer_dir}/OS_scRNA_gene_index.19264.tsv', header=0, delimiter='\\t')\n",
    "        self.gene_list = list(gene_list_df['gene_name'])\n",
    "        self.gene_ids = np.array(self.vocab(self.gene_list), dtype=int)\n",
    "\n",
    "        ligand_database = pd.read_csv(self.tokenizer_dir+'ligand_database.csv', header=0, index_col=0)\n",
    "        ligand_symbol = ligand_database[ligand_database.sum(1)>1].index.values\n",
    "        self.ligand_symbol = gene_list_df.loc[gene_list_df['gene_name'].isin(ligand_symbol), 'gene_name'].values\n",
    "        self.ligand_ids = np.array(self.vocab(self.ligand_symbol.tolist())*25, dtype=int)\n",
    "\n",
    "    def perturb_data(self, pert_receptor=False, pert_ligand=False, pert_receptor_celltype=None, pert_ligand_celltype=None, pert_receptor_genes=None, pert_ligand_genes=None):\n",
    "        if pert_receptor_celltype is not None:\n",
    "            pert_receptor_celltype = self.cell_types_list.index(pert_receptor_celltype)+1\n",
    "        \n",
    "        if pert_ligand_celltype is not None:\n",
    "            pert_ligand_celltype = self.cell_types_list.index(pert_ligand_celltype)+1\n",
    "\n",
    "        pert_expression_matrix = []\n",
    "        pert_niche_ligands_expression = []\n",
    "        pert_niche_composition = []\n",
    "        pert_celltypes = []\n",
    "\n",
    "        sample_celltypes = self.adata.obs['cell_type'].values\n",
    "\n",
    "        for i in range(self.adata.shape[0]):\n",
    "            if pert_receptor_celltype is not None and sample_celltypes[i] != pert_receptor_celltype:\n",
    "                continue\n",
    "            \n",
    "            if pert_ligand_celltype is not None and self.niche_composition[i, np.where(self.niche_celltypes[i].A == pert_ligand_celltype)[1]].sum() == 0:\n",
    "                continue\n",
    "            \n",
    "            pert_expression_matrix_i = self.expression_matrix[i].A\n",
    "            if pert_expression_matrix_i[0, np.isin(self.gene_list, pert_receptor_genes)].sum() == 0:\n",
    "                continue\n",
    "\n",
    "            if pert_ligand_celltype is None:\n",
    "                pert_ligand_cellindex = np.array(range(25))\n",
    "            else:\n",
    "                pert_ligand_cellindex = np.where(self.niche_celltypes[i].A == pert_ligand_celltype)[1]\n",
    "            \n",
    "            pert_niche_ligands_expression_i = self.niche_ligands_expression[i].A.reshape(25,986)\n",
    "            if pert_niche_ligands_expression_i[pert_ligand_cellindex][:, np.isin(self.ligand_symbol, pert_ligand_genes)].sum() == 0:\n",
    "                continue\n",
    "            \n",
    "            if pert_receptor:\n",
    "                # pert_expression_matrix_i[0, np.isin(self.gene_list, pert_receptor_genes) & (pert_expression_matrix_i[0] > 0)] = pert_expression_matrix_i[0, np.isin(self.gene_list, pert_receptor_genes) & (pert_expression_matrix_i[0] > 0)]/3\n",
    "                pert_expression_matrix_i[0, np.where((np.isin(self.gene_list, pert_receptor_genes) & (pert_expression_matrix_i[0] > 0))==True)[0][0]] = pert_expression_matrix_i[0, np.where((np.isin(self.gene_list, pert_receptor_genes) & (pert_expression_matrix_i[0] > 0))==True)[0][0]]/3\n",
    "            if pert_ligand:\n",
    "                for ci in pert_ligand_cellindex:\n",
    "                    # pert_niche_ligands_expression_i[ci, np.isin(self.ligand_symbol, pert_ligand_genes) & (pert_niche_ligands_expression_i[ci] > 0)] = pert_niche_ligands_expression_i[ci, np.isin(self.ligand_symbol, pert_ligand_genes) & (pert_niche_ligands_expression_i[ci] > 0)]/3\n",
    "                    pert_niche_ligands_expression_i[ci, np.where((np.isin(self.ligand_symbol, pert_ligand_genes) & (pert_niche_ligands_expression_i[ci] > 0))==True)[0][0]] = pert_niche_ligands_expression_i[ci, np.where((np.isin(self.ligand_symbol, pert_ligand_genes) & (pert_niche_ligands_expression_i[ci] > 0))==True)[0][0]]/3\n",
    "            \n",
    "            pert_expression_matrix.append(pert_expression_matrix_i)\n",
    "            pert_niche_ligands_expression.append(pert_niche_ligands_expression_i.reshape(1,-1))\n",
    "            pert_niche_composition.append(self.niche_composition[i].A)\n",
    "            pert_celltypes.append(sample_celltypes[i])\n",
    "\n",
    "        self.pert_expression_matrix = np.concatenate(pert_expression_matrix)\n",
    "        self.pert_niche_ligands_expression = np.concatenate(pert_niche_ligands_expression)\n",
    "        self.pert_niche_composition = np.concatenate(pert_niche_composition)\n",
    "        self.pert_celltypes = torch.tensor(pert_celltypes)\n",
    "\n",
    "    def tokenize_data(self):\n",
    "\n",
    "        biases = np.zeros([self.pert_niche_composition.shape[0], self.pert_niche_composition.shape[1]*986])\n",
    "        for k in range(biases.shape[0]):\n",
    "            biases[k] = np.concatenate([[np.log(p)]*986 for p in self.pert_niche_composition[k]])\n",
    "\n",
    "        tokenized_data = tokenize_and_pad_batch_2(\n",
    "            self.pert_expression_matrix,\n",
    "            self.pert_niche_ligands_expression,\n",
    "            biases,\n",
    "            self.gene_ids,\n",
    "            self.ligand_ids,\n",
    "            pad_id = self.vocab[self.pad_token],\n",
    "            pad_value = self.pad_value,\n",
    "        )\n",
    "        \n",
    "        logger.info(\n",
    "            f\"number of samples: {tokenized_data['center_genes'].shape[0]}, \"\n",
    "            f\"\\n\\t feature length of center cell: {tokenized_data['center_genes'].shape[1]}\"\n",
    "            f\"\\n\\t feature length of niche cells: {tokenized_data['niche_genes'].shape[1]}\"\n",
    "        )\n",
    "\n",
    "        self.tokenized_data = tokenized_data\n",
    "\n",
    "    def prepare_data(self):\n",
    "        self.data_pt = {\n",
    "            \"center_gene_ids\": self.tokenized_data[\"center_genes\"],\n",
    "            \"input_center_values\": self.tokenized_data[\"center_values\"],\n",
    "            \"niche_gene_ids\": self.tokenized_data[\"niche_genes\"],\n",
    "            \"input_niche_values\": self.tokenized_data[\"niche_values\"],\n",
    "            \"cross_attn_bias\": self.tokenized_data[\"cross_attn_bias\"],\n",
    "            \"celltype_labels\": self.pert_celltypes,\n",
    "        }\n",
    "\n",
    "    def prepare_dataloader(self, batch_size):\n",
    "        data_loader = DataLoader(\n",
    "            dataset=SeqDataset(self.data_pt),\n",
    "            batch_size=batch_size,\n",
    "            shuffle=False,\n",
    "            drop_last=False,\n",
    "            num_workers=min(len(os.sched_getaffinity(0)), batch_size // 2),\n",
    "            pin_memory=True,\n",
    "        )\n",
    "        return data_loader\n",
    "\n",
    "class SeqDataset(Dataset):\n",
    "    def __init__(self, data: Dict[str, torch.Tensor]):\n",
    "        self.data = data\n",
    "\n",
    "    def __len__(self):\n",
    "        return self.data[\"center_gene_ids\"].shape[0]\n",
    "\n",
    "    def __getitem__(self, idx):\n",
    "        return {k: v[idx] for k, v in self.data.items()}"
   ]
  },
  {
   "cell_type": "code",
   "execution_count": null,
   "metadata": {},
   "outputs": [],
   "source": [
    "def evaluate(model: nn.Module, loader: DataLoader) -> float:\n",
    "    \"\"\"\n",
    "    Evaluate the model on the evaluation data.\n",
    "    \"\"\"\n",
    "    amp = True\n",
    "\n",
    "    model.eval()\n",
    "    gene_embeddings_list = []\n",
    "    selected_center_gene_ids = []\n",
    "\n",
    "    with torch.no_grad():\n",
    "        for batch_data in tqdm(loader):\n",
    "            center_gene_ids = batch_data[\"center_gene_ids\"].to(device)\n",
    "            if center_gene_ids.size(0)<12:\n",
    "                continue\n",
    "            input_center_values = batch_data[\"input_center_values\"].to(device)\n",
    "            niche_gene_ids = batch_data[\"niche_gene_ids\"].to(device)\n",
    "            input_niche_values = batch_data[\"input_niche_values\"].to(device)\n",
    "            cross_attn_bias = batch_data[\"cross_attn_bias\"].to(device)\n",
    "\n",
    "            encoder_src_key_padding_mask = niche_gene_ids.eq(vocab[pad_token])\n",
    "            decoder_src_key_padding_mask = center_gene_ids.eq(vocab[pad_token])\n",
    "\n",
    "            with torch.cuda.amp.autocast(enabled=amp):\n",
    "                output_dict = model(\n",
    "                        niche_gene_ids,\n",
    "                        input_niche_values,\n",
    "                        encoder_src_key_padding_mask,\n",
    "                        center_gene_ids,\n",
    "                        input_center_values,\n",
    "                        decoder_src_key_padding_mask,\n",
    "                        cross_attn_bias,\n",
    "                        output_gene_emb = True,\n",
    "                    )\n",
    "\n",
    "                if_selected = torch.isin(center_gene_ids.to('cpu'), torch.tensor(selected_gene_ids))\n",
    "                gene_embeddings_list.append(output_dict[\"gene_emb\"].to('cpu')[if_selected])\n",
    "                selected_center_gene_ids.append(center_gene_ids.to('cpu')[if_selected])\n",
    "\n",
    "    gene_embeddings = torch.cat(gene_embeddings_list)\n",
    "    selected_center_gene_ids = torch.cat(selected_center_gene_ids)\n",
    "\n",
    "    return gene_embeddings, selected_center_gene_ids"
   ]
  },
  {
   "cell_type": "code",
   "execution_count": 4,
   "metadata": {},
   "outputs": [],
   "source": [
    "from scfoundation import load\n",
    "\n",
    "def initialize_model(model_file):\n",
    "    pretrainmodel, pretrainconfig = load.load_model_frommmf('scfoundation/models/models.ckpt')\n",
    "\n",
    "    model = TransformerModel(\n",
    "            embsize,\n",
    "            nhead,\n",
    "            d_hid,\n",
    "            nlayers,\n",
    "            do_gcl = True,\n",
    "            nlayers_gcl = 3,\n",
    "            n_gcl =2,\n",
    "            dropout = dropout,\n",
    "            cell_emb_style = cell_emb_style,\n",
    "            scfoundation_token_emb1 = copy.deepcopy(pretrainmodel.token_emb),\n",
    "            scfoundation_token_emb2 = copy.deepcopy(pretrainmodel.token_emb),\n",
    "            scfoundation_pos_emb1 = copy.deepcopy(pretrainmodel.pos_emb),\n",
    "            scfoundation_pos_emb2 = copy.deepcopy(pretrainmodel.pos_emb),\n",
    "        )\n",
    "\n",
    "    pt_model = torch.load(model_file, map_location='cpu')\n",
    "\n",
    "    model_dict = model.state_dict()\n",
    "    pretrained_dict = pt_model.state_dict()\n",
    "    pretrained_dict = {\n",
    "                k: v\n",
    "                for k, v in pretrained_dict.items()\n",
    "                if 'cls_decoder' not in k and 'gcl_decoder' not in k\n",
    "                # if k in model_dict and v.shape == model_dict[k].shape\n",
    "    }\n",
    "    # for k, v in pretrained_dict.items():\n",
    "    #     logger.info(f\"Loading params {k} with shape {v.shape}\")\n",
    "    model_dict.update(pretrained_dict)\n",
    "    model.load_state_dict(model_dict)\n",
    "\n",
    "    pre_freeze_param_count = sum(dict((p.data_ptr(), p.numel()) for p in model.parameters() if p.requires_grad).values())\n",
    "    for name, para in model.named_parameters():\n",
    "        para.requires_grad = False\n",
    "    post_freeze_param_count = sum(dict((p.data_ptr(), p.numel()) for p in model.parameters() if p.requires_grad).values())\n",
    "    \n",
    "    logger.info(f\"Total Pre freeze Params {(pre_freeze_param_count )}\")\n",
    "    logger.info(f\"Total Post freeze Params {(post_freeze_param_count )}\")\n",
    "\n",
    "    return model"
   ]
  },
  {
   "cell_type": "code",
   "execution_count": null,
   "metadata": {},
   "outputs": [],
   "source": [
    "embsize = 768\n",
    "d_hid = 3072\n",
    "nhead = 12\n",
    "nlayers = 6\n",
    "dropout = 0.1\n",
    "cell_emb_style = 'max-pool'\n",
    "\n",
    "pad_token = \"<pad>\"\n",
    "pad_value = 103\n",
    "tokenizer_dir = '../stformer/tokenizer/'\n",
    "vocab_file = tokenizer_dir + \"scfoundation_gene_vocab.json\"\n",
    "vocab = GeneVocab.from_file(vocab_file)\n",
    "vocab.append_token(pad_token)\n",
    "vocab.set_default_index(vocab[pad_token])\n",
    "\n",
    "batch_size = 20"
   ]
  },
  {
   "cell_type": "code",
   "execution_count": null,
   "metadata": {},
   "outputs": [],
   "source": [
    "model_file = '../pretraining/models/model_4.1M.ckpt'\n",
    "\n",
    "model = initialize_model(model_file)\n",
    "model = nn.DataParallel(model, device_ids = [0])\n",
    "device = torch.device(\"cuda:0\")\n",
    "model.to(device)"
   ]
  },
  {
   "cell_type": "code",
   "execution_count": null,
   "metadata": {},
   "outputs": [],
   "source": [
    "dataset = 'human_myocardial_infarction'\n",
    "slide = 'ACH0011'\n",
    "adata = sc.read_h5ad(f'../datasets/{slide}_niche.h5ad')\n",
    "\n",
    "tokenizer = Tokenizer(tokenizer_dir, adata, vocab, pad_value, pad_token)\n",
    "\n",
    "nonzero_niche_genes = set(np.array((tokenizer.ligand_symbol.tolist())*25)[np.nonzero(adata.obsm['niche_ligands_expression'])[1]])\n",
    "nonzero_center_genes = set(np.array(tokenizer.gene_list)[np.nonzero(adata.X)[1]])"
   ]
  },
  {
   "cell_type": "code",
   "execution_count": null,
   "metadata": {},
   "outputs": [],
   "source": [
    "target_path = 'gene_lists/WNT_direct_targets_vs_housekeeping.csv'\n",
    "df_target = pd.read_csv(target_path)\n",
    "wnt_targets = df_target.loc[df_target['Class']=='wnt_direct_target','gene_symbols']\n",
    "wnt_targets = set(wnt_targets).intersection(nonzero_center_genes)\n",
    "housekeeping = df_target.loc[df_target['Class']=='housekeeping','gene_symbols']\n",
    "housekeeping = set(housekeeping).intersection(nonzero_center_genes)\n",
    "\n",
    "np.random.seed(0)\n",
    "random_targets = set(np.random.choice(list(nonzero_center_genes-wnt_targets-housekeeping), size=100, replace=False) )\n",
    "\n",
    "selected_gene_ids = tokenizer.vocab(list(random_targets.union(wnt_targets).union(housekeeping)))"
   ]
  },
  {
   "cell_type": "code",
   "execution_count": null,
   "metadata": {},
   "outputs": [
    {
     "name": "stdout",
     "output_type": "stream",
     "text": [
      "cell types: ['Adipocyte', 'Cardiomyocyte', 'Cycling cells', 'Endothelial', 'Fibroblast', 'Lymphoid', 'Mast', 'Myeloid', 'Neuronal', 'Pericyte', 'vSMCs']\n",
      "ligand genes: ['WNT5B', 'WNT2B']\n",
      "receptor genes: ['FZD6', 'FZD4', 'FZD5']\n",
      "lowest expression: 4.886720275915682e-05\n",
      "highest expression: 8.681815663703722\n"
     ]
    }
   ],
   "source": [
    "print(\"cell types:\", tokenizer.cell_types_list)\n",
    "print(\"ligand genes:\", [g for g in nonzero_niche_genes if 'WNT' in g])\n",
    "print(\"receptor genes:\", [g for g in nonzero_center_genes if 'FZD' in g])"
   ]
  },
  {
   "cell_type": "code",
   "execution_count": null,
   "metadata": {},
   "outputs": [],
   "source": [
    "pert_receptor_celltype = 'Cardiomyocyte'\n",
    "pert_ligand_celltype = 'Cardiomyocyte'\n",
    "pert_receptor_genes = ['FZD6', 'FZD4', 'FZD5']\n",
    "pert_ligand_genes = ['WNT5B', 'WNT2B']"
   ]
  },
  {
   "cell_type": "code",
   "execution_count": null,
   "metadata": {},
   "outputs": [
    {
     "name": "stdout",
     "output_type": "stream",
     "text": [
      "pert_receptor: 0, pert_ligand: 0\n",
      "stFormer - INFO - number of samples: 88, \n",
      "\t feature length of center cell: 4137\n",
      "\t feature length of niche cells: 1533\n"
     ]
    },
    {
     "name": "stderr",
     "output_type": "stream",
     "text": [
      "100%|██████████| 5/5 [00:05<00:00,  1.13s/it]\n"
     ]
    },
    {
     "name": "stdout",
     "output_type": "stream",
     "text": [
      "pert_receptor: 1, pert_ligand: 0\n",
      "stFormer - INFO - number of samples: 88, \n",
      "\t feature length of center cell: 4137\n",
      "\t feature length of niche cells: 1533\n"
     ]
    },
    {
     "name": "stderr",
     "output_type": "stream",
     "text": [
      "100%|██████████| 5/5 [00:02<00:00,  2.12it/s]\n"
     ]
    },
    {
     "name": "stdout",
     "output_type": "stream",
     "text": [
      "pert_receptor: 0, pert_ligand: 1\n",
      "stFormer - INFO - number of samples: 88, \n",
      "\t feature length of center cell: 4137\n",
      "\t feature length of niche cells: 1533\n"
     ]
    },
    {
     "name": "stderr",
     "output_type": "stream",
     "text": [
      "100%|██████████| 5/5 [00:02<00:00,  1.91it/s]\n"
     ]
    },
    {
     "name": "stdout",
     "output_type": "stream",
     "text": [
      "pert_receptor: 1, pert_ligand: 1\n",
      "stFormer - INFO - number of samples: 88, \n",
      "\t feature length of center cell: 4137\n",
      "\t feature length of niche cells: 1533\n"
     ]
    },
    {
     "name": "stderr",
     "output_type": "stream",
     "text": [
      "100%|██████████| 5/5 [00:02<00:00,  2.11it/s]\n"
     ]
    }
   ],
   "source": [
    "gene_embeddings_results = {}\n",
    "selected_center_gene_ids_results = {}\n",
    "\n",
    "for (pert_receptor, pert_ligand) in [(0,0), (1,0), (0,1), (1,1)]:\n",
    "    print(f\"pert_receptor: {pert_receptor}, pert_ligand: {pert_ligand}\")\n",
    "\n",
    "    tokenizer.perturb_data(pert_receptor, pert_ligand, pert_receptor_celltype, pert_ligand_celltype, pert_receptor_genes, pert_ligand_genes)\n",
    "    tokenizer.tokenize_data()\n",
    "    tokenizer.prepare_data()\n",
    "    data_loader = tokenizer.prepare_dataloader(batch_size)\n",
    "\n",
    "    gene_embeddings, selected_center_gene_ids = evaluate(model, data_loader)\n",
    "\n",
    "    gene_embeddings_results[(pert_receptor, pert_ligand)] = gene_embeddings\n",
    "    selected_center_gene_ids_results[(pert_receptor, pert_ligand)] = selected_center_gene_ids"
   ]
  },
  {
   "cell_type": "code",
   "execution_count": null,
   "metadata": {},
   "outputs": [],
   "source": [
    "import pickle\n",
    "\n",
    "pickle.dump(gene_embeddings_results, open(f'figures/insilico_perturbation/gene_embeddings_results.pkl', 'wb'))\n",
    "pickle.dump(selected_center_gene_ids_results, open(f'figures/insilico_perturbation/selected_center_gene_ids_results.pkl', 'wb'))\n",
    "pickle.dump(random_targets, open(f'figures/insilico_perturbation/random_targets.pkl', 'wb'))"
   ]
  },
  {
   "cell_type": "code",
   "execution_count": null,
   "metadata": {},
   "outputs": [
    {
     "name": "stdout",
     "output_type": "stream",
     "text": [
      "Computing pcc for ligand perturbation\n",
      "Computing pcc for receptor perturbation\n",
      "Computing pcc for both ligand and receptor perturbation\n"
     ]
    }
   ],
   "source": [
    "def compute_pcc(pert_mode, target_genes):\n",
    "    pcc = {}\n",
    "    for gene in target_genes:\n",
    "        pcc[gene] = []\n",
    "        ge_origin = gene_embeddings_results[(0,0)][(selected_center_gene_ids_results[(0,0)]==tokenizer.vocab[gene])]\n",
    "        ge_pert = gene_embeddings_results[pert_mode][(selected_center_gene_ids_results[pert_mode]==tokenizer.vocab[gene])]\n",
    "        for i in range(ge_origin.shape[0]):\n",
    "            pcc[gene].append(np.corrcoef(ge_origin[i], ge_pert[i])[0,1])\n",
    "            # pcc[gene].append(np.linalg.norm(ge_origin[i]-ge_pert[i]))\n",
    "    return pcc\n",
    "\n",
    "print(\"Computing pcc for ligand perturbation\")\n",
    "pcc_wnt_ligand = compute_pcc((0,1), wnt_targets)\n",
    "pcc_random_ligand = compute_pcc((0,1), random_targets)\n",
    "pcc_hk_ligand = compute_pcc((0,1), housekeeping)\n",
    "\n",
    "print(\"Computing pcc for receptor perturbation\")\n",
    "pcc_wnt_receptor = compute_pcc((1,0), wnt_targets)\n",
    "pcc_random_receptor = compute_pcc((1,0), random_targets)\n",
    "pcc_hk_receptor = compute_pcc((1,0), housekeeping)\n",
    "\n",
    "print(\"Computing pcc for both ligand and receptor perturbation\")\n",
    "pcc_wnt_both = compute_pcc((1,1), wnt_targets)\n",
    "pcc_random_both = compute_pcc((1,1), random_targets)\n",
    "pcc_hk_both = compute_pcc((1,1), housekeeping)"
   ]
  },
  {
   "cell_type": "code",
   "execution_count": null,
   "metadata": {},
   "outputs": [
    {
     "name": "stdout",
     "output_type": "stream",
     "text": [
      "ligand perturbation\n",
      "wnt_targets: 0.9999995271170059\n",
      "random_targets: 0.9999995745705132\n",
      "housekeeping: 0.9999996358872718\n",
      "receptor perturbation\n",
      "wnt_targets: 0.999999602524391\n",
      "random_targets: 0.9999996865414894\n",
      "housekeeping: 0.9999997320929926\n",
      "both ligand and receptor perturbation\n",
      "wnt_targets: 0.9999990533233065\n",
      "random_targets: 0.9999992072819668\n",
      "housekeeping: 0.9999993690936909\n"
     ]
    }
   ],
   "source": [
    "data_wnt_ligand = [k for d in list(pcc_wnt_ligand.values()) for k in d]\n",
    "data_random_ligand = [k for d in list(pcc_random_ligand.values()) for k in d]\n",
    "data_hk_ligand = [k for d in list(pcc_hk_ligand.values()) for k in d]\n",
    "\n",
    "data_wnt_receptor = [k for d in list(pcc_wnt_receptor.values()) for k in d]\n",
    "data_random_receptor = [k for d in list(pcc_random_receptor.values()) for k in d]\n",
    "data_hk_receptor = [k for d in list(pcc_hk_receptor.values()) for k in d]\n",
    "\n",
    "data_wnt_both = [k for d in list(pcc_wnt_both.values()) for k in d]\n",
    "data_random_both = [k for d in list(pcc_random_both.values()) for k in d]\n",
    "data_hk_both = [k for d in list(pcc_hk_both.values()) for k in d]\n",
    "\n",
    "print(\"ligand perturbation\")\n",
    "print('wnt_targets:', np.median(data_wnt_ligand))\n",
    "print('random_targets:', np.median(data_random_ligand))\n",
    "print('housekeeping:', np.median(data_hk_ligand))\n",
    "\n",
    "print(\"receptor perturbation\")\n",
    "print('wnt_targets:', np.median(data_wnt_receptor))\n",
    "print('random_targets:', np.median(data_random_receptor))\n",
    "print('housekeeping:', np.median(data_hk_receptor))\n",
    "\n",
    "print(\"both ligand and receptor perturbation\")\n",
    "print('wnt_targets:', np.median(data_wnt_both))\n",
    "print('random_targets:', np.median(data_random_both))\n",
    "print('housekeeping:', np.median(data_hk_both))"
   ]
  },
  {
   "cell_type": "code",
   "execution_count": null,
   "metadata": {},
   "outputs": [
    {
     "data": {
      "image/png": "[encoded data removed]",
      "text/plain": [
       "<Figure size 400x200 with 1 Axes>"
      ]
     },
     "metadata": {},
     "output_type": "display_data"
    }
   ],
   "source": [
    "import matplotlib.pyplot as plt\n",
    "\n",
    "plt.figure(figsize=(4, 2))\n",
    "data = {'tg': data_wnt_ligand, 'hk': data_hk_ligand, 'tg0': data_random_ligand}\n",
    "# Plotting the boxplot\n",
    "f = plt.boxplot(list(data.values()), widths=0.8, patch_artist=True, vert=False, medianprops={'color':'black'}, flierprops={'marker': '+', 'markersize':0.1})\n",
    "\n",
    "for box in f['boxes']:  # 对箱线图设置颜色\n",
    "    box.set(color='#ffd166', linewidth=1)\n",
    "plt.xlim(0.9999978, 1) # 0.9985 0.94\n",
    "\n",
    "yticks=[1,2,3]\n",
    "ytick_labels=['WNT targets', 'Housekeeping', 'Random targets']\n",
    "plt.yticks(yticks, ytick_labels, fontsize=10)\n",
    "\n",
    "\n",
    "xticks=[0.999998, 0.9999985, 0.999999, 0.9999995, 1]\n",
    "xtick_labels=['1-2e-6', '1-1.5e-6', '1-1e-6', '1-0.5e-6', '1']\n",
    "plt.xticks(xticks, xtick_labels, fontsize=8)\n",
    "\n",
    "ax = plt.gca()  # get current axes\n",
    "ax.spines['top'].set_visible(False)\n",
    "ax.spines['right'].set_visible(False)\n",
    "\n",
    "plt.savefig(f'figures/insilico_perturbation/WNT_downreg_ligand_{slide}.pdf', bbox_inches='tight')"
   ]
  },
  {
   "cell_type": "code",
   "execution_count": null,
   "metadata": {},
   "outputs": [
    {
     "data": {
      "image/png": "[encoded data removed]",
      "text/plain": [
       "<Figure size 400x200 with 1 Axes>"
      ]
     },
     "metadata": {},
     "output_type": "display_data"
    }
   ],
   "source": [
    "import matplotlib.pyplot as plt\n",
    "\n",
    "plt.figure(figsize=(4, 2))\n",
    "data = {'tg': data_wnt_both, 'hk': data_wnt_ligand, 'tg0': data_wnt_receptor}\n",
    "# Plotting the boxplot\n",
    "f = plt.boxplot(list(data.values()), widths=0.8, patch_artist=True, vert=False, medianprops={'color':'black'}, flierprops={'marker': '+', 'markersize':0.1})\n",
    "\n",
    "\n",
    "c_list = ['#ef476f', '#ffd166', '#118AD5']\n",
    "for box, c in zip(f['boxes'], c_list):  # 对箱线图设置颜色\n",
    "    box.set(color=c, linewidth=1)\n",
    "plt.xlim(0.999994, 1) # 0.9985 0.94\n",
    "\n",
    "yticks=[1,2,3]\n",
    "ytick_labels=['WNT targets', 'WNT targets', 'WNT targets']\n",
    "plt.yticks(yticks, ytick_labels, fontsize=10)\n",
    "\n",
    "xticks=[0.999995, 0.999996, 0.999997, 0.999998, 0.999999, 1]\n",
    "xtick_labels=['1-5e-6', '1-4e-6', '1-3e-6', '1-2e-6', '1-1e-6', '1']\n",
    "plt.xticks(xticks, xtick_labels, fontsize=8)\n",
    "\n",
    "import matplotlib.patches as mpatches\n",
    "patch1 = mpatches.Patch(color='#118AD5', label='Receptor')\n",
    "patch2 = mpatches.Patch(color='#ffd166', label='Ligand')\n",
    "patch3 = mpatches.Patch(color='#ef476f', label='Receptor and Ligand')\n",
    "plt.legend(title='In silico downregulated genes', title_fontsize=6, handles=[patch1, patch2, patch3], loc='upper left', labels=['Receptor', 'Ligand', 'Receptor and ligand'], fontsize=6)\n",
    "\n",
    "ax = plt.gca()  # get current axes\n",
    "ax.spines['top'].set_visible(False)\n",
    "ax.spines['right'].set_visible(False)\n",
    "\n",
    "plt.savefig(f'figures/insilico_perturbation/WNT_downreg_all_{slide}.pdf', bbox_inches='tight')"
   ]
  },
  {
   "cell_type": "code",
   "execution_count": 74,
   "metadata": {},
   "outputs": [
    {
     "name": "stdout",
     "output_type": "stream",
     "text": [
      "p-values: [7.135301582187237e-07, 3.5121465374540722e-12, 0.0016584700601789786, 0.007286855451578857, 1.6071325296015287e-06, 5.997952666051098e-09, 3.4494041430195795e-31, 3.964248252828887e-24]\n",
      "FDR-corrected p-values: [1.14164825e-06 9.36572410e-12 1.89539435e-03 7.28685545e-03\n",
      " 2.14284337e-06 1.19959053e-08 2.75952331e-30 1.58569930e-23]\n"
     ]
    }
   ],
   "source": [
    "from scipy.stats import ranksums\n",
    "from statsmodels.stats.multitest import multipletests\n",
    "\n",
    "\n",
    "receptor_hk = ranksums(data_hk_receptor, data_random_receptor, alternative='greater')\n",
    "receptor_tg = ranksums(data_wnt_receptor, data_random_receptor, alternative='less')\n",
    "ligand_hk = ranksums(data_hk_ligand, data_random_ligand, alternative='greater')\n",
    "ligand_tg = ranksums(data_wnt_ligand, data_random_ligand, alternative='less')\n",
    "both_hk = ranksums(data_hk_both, data_random_both, alternative='greater')\n",
    "both_tg = ranksums(data_wnt_both, data_random_both, alternative='less')\n",
    "both_ligand = ranksums(data_wnt_both, data_wnt_ligand, alternative='less')\n",
    "both_receptor = ranksums(data_wnt_both, data_wnt_receptor, alternative='less')\n",
    "\n",
    "p_values = [receptor_hk.pvalue, receptor_tg.pvalue, ligand_hk.pvalue, ligand_tg.pvalue, both_hk.pvalue, both_tg.pvalue, both_ligand.pvalue, both_receptor.pvalue]\n",
    "print(\"p-values:\", p_values)\n",
    "\n",
    "_, p_values_fdr, _, _ = multipletests(p_values, method='fdr_bh')\n",
    "print(\"FDR-corrected p-values:\", p_values_fdr)"
   ]
  },
  {
   "cell_type": "code",
   "execution_count": null,
   "metadata": {},
   "outputs": [],
   "source": []
  }
 ],
 "metadata": {
  "kernelspec": {
   "display_name": "stformer",
   "language": "python",
   "name": "stformer"
  },
  "language_info": {
   "codemirror_mode": {
    "name": "ipython",
    "version": 3
   },
   "file_extension": ".py",
   "mimetype": "text/x-python",
   "name": "python",
   "nbconvert_exporter": "python",
   "pygments_lexer": "ipython3",
   "version": "3.11.5"
  }
 },
 "nbformat": 4,
 "nbformat_minor": 2
}
